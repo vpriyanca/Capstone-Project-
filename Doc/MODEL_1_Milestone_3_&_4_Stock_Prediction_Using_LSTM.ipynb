{
  "cells": [
    {
      "cell_type": "code",
      "execution_count": null,
      "metadata": {
        "id": "jlo8lDyNkwHS"
      },
      "outputs": [],
      "source": [
        "### Stock Market Prediction And Forecasting Using Stacked LSTM"
      ]
    },
    {
      "cell_type": "code",
      "execution_count": null,
      "metadata": {
        "colab": {
          "base_uri": "https://localhost:8080/"
        },
        "id": "LCdrADjhkwHV",
        "outputId": "483bb129-40f0-4978-ca38-0f3dad6aa50a"
      },
      "outputs": [
        {
          "output_type": "stream",
          "name": "stdout",
          "text": [
            "Looking in indexes: https://pypi.org/simple, https://us-python.pkg.dev/colab-wheels/public/simple/\n",
            "Requirement already satisfied: yfinance in /usr/local/lib/python3.7/dist-packages (0.1.87)\n",
            "Requirement already satisfied: requests>=2.26 in /usr/local/lib/python3.7/dist-packages (from yfinance) (2.28.1)\n",
            "Requirement already satisfied: multitasking>=0.0.7 in /usr/local/lib/python3.7/dist-packages (from yfinance) (0.0.11)\n",
            "Requirement already satisfied: appdirs>=1.4.4 in /usr/local/lib/python3.7/dist-packages (from yfinance) (1.4.4)\n",
            "Requirement already satisfied: pandas>=0.24.0 in /usr/local/lib/python3.7/dist-packages (from yfinance) (1.3.5)\n",
            "Requirement already satisfied: numpy>=1.15 in /usr/local/lib/python3.7/dist-packages (from yfinance) (1.21.6)\n",
            "Requirement already satisfied: lxml>=4.5.1 in /usr/local/lib/python3.7/dist-packages (from yfinance) (4.9.1)\n",
            "Requirement already satisfied: pytz>=2017.3 in /usr/local/lib/python3.7/dist-packages (from pandas>=0.24.0->yfinance) (2022.6)\n",
            "Requirement already satisfied: python-dateutil>=2.7.3 in /usr/local/lib/python3.7/dist-packages (from pandas>=0.24.0->yfinance) (2.8.2)\n",
            "Requirement already satisfied: six>=1.5 in /usr/local/lib/python3.7/dist-packages (from python-dateutil>=2.7.3->pandas>=0.24.0->yfinance) (1.15.0)\n",
            "Requirement already satisfied: certifi>=2017.4.17 in /usr/local/lib/python3.7/dist-packages (from requests>=2.26->yfinance) (2022.9.24)\n",
            "Requirement already satisfied: urllib3<1.27,>=1.21.1 in /usr/local/lib/python3.7/dist-packages (from requests>=2.26->yfinance) (1.24.3)\n",
            "Requirement already satisfied: charset-normalizer<3,>=2 in /usr/local/lib/python3.7/dist-packages (from requests>=2.26->yfinance) (2.1.1)\n",
            "Requirement already satisfied: idna<4,>=2.5 in /usr/local/lib/python3.7/dist-packages (from requests>=2.26->yfinance) (2.10)\n",
            "<class 'pandas.core.frame.DataFrame'>\n",
            "DatetimeIndex: 2518 entries, 2012-11-19 00:00:00-05:00 to 2022-11-17 00:00:00-05:00\n",
            "Data columns (total 7 columns):\n",
            " #   Column        Non-Null Count  Dtype  \n",
            "---  ------        --------------  -----  \n",
            " 0   Open          2518 non-null   float64\n",
            " 1   High          2518 non-null   float64\n",
            " 2   Low           2518 non-null   float64\n",
            " 3   Close         2518 non-null   float64\n",
            " 4   Volume        2518 non-null   int64  \n",
            " 5   Dividends     2518 non-null   int64  \n",
            " 6   Stock Splits  2518 non-null   float64\n",
            "dtypes: float64(5), int64(2)\n",
            "memory usage: 221.9 KB\n",
            "None\n"
          ]
        }
      ],
      "source": [
        "#Milestone 1-Dataset Download\n",
        "!pip install yfinance\n",
        "import yfinance as yf\n",
        "# Request historical data for past 10 years\n",
        "data = yf.Ticker(\"TSLA\").history(period='10y')\n",
        "# Show info\n",
        "print(data.info())"
      ]
    },
    {
      "cell_type": "code",
      "source": [
        "from google.colab import files\n",
        "import pandas as pd"
      ],
      "metadata": {
        "id": "lZW44ZQVoNcO"
      },
      "execution_count": null,
      "outputs": []
    },
    {
      "cell_type": "code",
      "execution_count": null,
      "metadata": {
        "id": "AWerAtUOkwHX"
      },
      "outputs": [],
      "source": [
        "df= pd.read_csv (r'/content/TSLA Stock data 10yr.csv') "
      ]
    },
    {
      "cell_type": "code",
      "execution_count": null,
      "metadata": {
        "colab": {
          "base_uri": "https://localhost:8080/",
          "height": 206
        },
        "id": "cRUp63ihkwHY",
        "outputId": "4746a4ca-23ed-42ab-a839-3692b28f33d9"
      },
      "outputs": [
        {
          "output_type": "execute_result",
          "data": {
            "text/plain": [
              "         Date      Open      High       Low     Close  Adj Close    Volume\n",
              "0  2012-10-31  1.846667  1.890000  1.824667  1.875333   1.875333  11628000\n",
              "1  2012-11-01  1.883333  1.966000  1.880000  1.950000   1.950000  15361500\n",
              "2  2012-11-02  1.951333  1.970000  1.903333  1.928000   1.928000  15454500\n",
              "3  2012-11-05  1.986667  2.105333  1.955333  2.100000   2.100000  30733500\n",
              "4  2012-11-06  2.040667  2.080000  1.996667  2.076667   2.076667  34860000"
            ],
            "text/html": [
              "\n",
              "  <div id=\"df-53c28afb-005f-43f4-9893-82b17f30699e\">\n",
              "    <div class=\"colab-df-container\">\n",
              "      <div>\n",
              "<style scoped>\n",
              "    .dataframe tbody tr th:only-of-type {\n",
              "        vertical-align: middle;\n",
              "    }\n",
              "\n",
              "    .dataframe tbody tr th {\n",
              "        vertical-align: top;\n",
              "    }\n",
              "\n",
              "    .dataframe thead th {\n",
              "        text-align: right;\n",
              "    }\n",
              "</style>\n",
              "<table border=\"1\" class=\"dataframe\">\n",
              "  <thead>\n",
              "    <tr style=\"text-align: right;\">\n",
              "      <th></th>\n",
              "      <th>Date</th>\n",
              "      <th>Open</th>\n",
              "      <th>High</th>\n",
              "      <th>Low</th>\n",
              "      <th>Close</th>\n",
              "      <th>Adj Close</th>\n",
              "      <th>Volume</th>\n",
              "    </tr>\n",
              "  </thead>\n",
              "  <tbody>\n",
              "    <tr>\n",
              "      <th>0</th>\n",
              "      <td>2012-10-31</td>\n",
              "      <td>1.846667</td>\n",
              "      <td>1.890000</td>\n",
              "      <td>1.824667</td>\n",
              "      <td>1.875333</td>\n",
              "      <td>1.875333</td>\n",
              "      <td>11628000</td>\n",
              "    </tr>\n",
              "    <tr>\n",
              "      <th>1</th>\n",
              "      <td>2012-11-01</td>\n",
              "      <td>1.883333</td>\n",
              "      <td>1.966000</td>\n",
              "      <td>1.880000</td>\n",
              "      <td>1.950000</td>\n",
              "      <td>1.950000</td>\n",
              "      <td>15361500</td>\n",
              "    </tr>\n",
              "    <tr>\n",
              "      <th>2</th>\n",
              "      <td>2012-11-02</td>\n",
              "      <td>1.951333</td>\n",
              "      <td>1.970000</td>\n",
              "      <td>1.903333</td>\n",
              "      <td>1.928000</td>\n",
              "      <td>1.928000</td>\n",
              "      <td>15454500</td>\n",
              "    </tr>\n",
              "    <tr>\n",
              "      <th>3</th>\n",
              "      <td>2012-11-05</td>\n",
              "      <td>1.986667</td>\n",
              "      <td>2.105333</td>\n",
              "      <td>1.955333</td>\n",
              "      <td>2.100000</td>\n",
              "      <td>2.100000</td>\n",
              "      <td>30733500</td>\n",
              "    </tr>\n",
              "    <tr>\n",
              "      <th>4</th>\n",
              "      <td>2012-11-06</td>\n",
              "      <td>2.040667</td>\n",
              "      <td>2.080000</td>\n",
              "      <td>1.996667</td>\n",
              "      <td>2.076667</td>\n",
              "      <td>2.076667</td>\n",
              "      <td>34860000</td>\n",
              "    </tr>\n",
              "  </tbody>\n",
              "</table>\n",
              "</div>\n",
              "      <button class=\"colab-df-convert\" onclick=\"convertToInteractive('df-53c28afb-005f-43f4-9893-82b17f30699e')\"\n",
              "              title=\"Convert this dataframe to an interactive table.\"\n",
              "              style=\"display:none;\">\n",
              "        \n",
              "  <svg xmlns=\"http://www.w3.org/2000/svg\" height=\"24px\"viewBox=\"0 0 24 24\"\n",
              "       width=\"24px\">\n",
              "    <path d=\"M0 0h24v24H0V0z\" fill=\"none\"/>\n",
              "    <path d=\"M18.56 5.44l.94 2.06.94-2.06 2.06-.94-2.06-.94-.94-2.06-.94 2.06-2.06.94zm-11 1L8.5 8.5l.94-2.06 2.06-.94-2.06-.94L8.5 2.5l-.94 2.06-2.06.94zm10 10l.94 2.06.94-2.06 2.06-.94-2.06-.94-.94-2.06-.94 2.06-2.06.94z\"/><path d=\"M17.41 7.96l-1.37-1.37c-.4-.4-.92-.59-1.43-.59-.52 0-1.04.2-1.43.59L10.3 9.45l-7.72 7.72c-.78.78-.78 2.05 0 2.83L4 21.41c.39.39.9.59 1.41.59.51 0 1.02-.2 1.41-.59l7.78-7.78 2.81-2.81c.8-.78.8-2.07 0-2.86zM5.41 20L4 18.59l7.72-7.72 1.47 1.35L5.41 20z\"/>\n",
              "  </svg>\n",
              "      </button>\n",
              "      \n",
              "  <style>\n",
              "    .colab-df-container {\n",
              "      display:flex;\n",
              "      flex-wrap:wrap;\n",
              "      gap: 12px;\n",
              "    }\n",
              "\n",
              "    .colab-df-convert {\n",
              "      background-color: #E8F0FE;\n",
              "      border: none;\n",
              "      border-radius: 50%;\n",
              "      cursor: pointer;\n",
              "      display: none;\n",
              "      fill: #1967D2;\n",
              "      height: 32px;\n",
              "      padding: 0 0 0 0;\n",
              "      width: 32px;\n",
              "    }\n",
              "\n",
              "    .colab-df-convert:hover {\n",
              "      background-color: #E2EBFA;\n",
              "      box-shadow: 0px 1px 2px rgba(60, 64, 67, 0.3), 0px 1px 3px 1px rgba(60, 64, 67, 0.15);\n",
              "      fill: #174EA6;\n",
              "    }\n",
              "\n",
              "    [theme=dark] .colab-df-convert {\n",
              "      background-color: #3B4455;\n",
              "      fill: #D2E3FC;\n",
              "    }\n",
              "\n",
              "    [theme=dark] .colab-df-convert:hover {\n",
              "      background-color: #434B5C;\n",
              "      box-shadow: 0px 1px 3px 1px rgba(0, 0, 0, 0.15);\n",
              "      filter: drop-shadow(0px 1px 2px rgba(0, 0, 0, 0.3));\n",
              "      fill: #FFFFFF;\n",
              "    }\n",
              "  </style>\n",
              "\n",
              "      <script>\n",
              "        const buttonEl =\n",
              "          document.querySelector('#df-53c28afb-005f-43f4-9893-82b17f30699e button.colab-df-convert');\n",
              "        buttonEl.style.display =\n",
              "          google.colab.kernel.accessAllowed ? 'block' : 'none';\n",
              "\n",
              "        async function convertToInteractive(key) {\n",
              "          const element = document.querySelector('#df-53c28afb-005f-43f4-9893-82b17f30699e');\n",
              "          const dataTable =\n",
              "            await google.colab.kernel.invokeFunction('convertToInteractive',\n",
              "                                                     [key], {});\n",
              "          if (!dataTable) return;\n",
              "\n",
              "          const docLinkHtml = 'Like what you see? Visit the ' +\n",
              "            '<a target=\"_blank\" href=https://colab.research.google.com/notebooks/data_table.ipynb>data table notebook</a>'\n",
              "            + ' to learn more about interactive tables.';\n",
              "          element.innerHTML = '';\n",
              "          dataTable['output_type'] = 'display_data';\n",
              "          await google.colab.output.renderOutput(dataTable, element);\n",
              "          const docLink = document.createElement('div');\n",
              "          docLink.innerHTML = docLinkHtml;\n",
              "          element.appendChild(docLink);\n",
              "        }\n",
              "      </script>\n",
              "    </div>\n",
              "  </div>\n",
              "  "
            ]
          },
          "metadata": {},
          "execution_count": 63
        }
      ],
      "source": [
        "df.head()"
      ]
    },
    {
      "cell_type": "code",
      "execution_count": null,
      "metadata": {
        "colab": {
          "base_uri": "https://localhost:8080/",
          "height": 206
        },
        "id": "pUUsOD_fkwHb",
        "outputId": "3c1cf68d-86e5-4547-b176-e6d0fe9cff8f"
      },
      "outputs": [
        {
          "output_type": "execute_result",
          "data": {
            "text/plain": [
              "            Date        Open        High         Low       Close   Adj Close  \\\n",
              "2510  2022-10-20  208.279999  215.550003  202.000000  207.279999  207.279999   \n",
              "2511  2022-10-21  206.419998  214.660004  203.800003  214.440002  214.440002   \n",
              "2512  2022-10-24  205.820007  213.500000  198.589996  211.250000  211.250000   \n",
              "2513  2022-10-25  210.100006  224.350006  210.000000  222.419998  222.419998   \n",
              "2514  2022-10-26  219.399994  230.600006  218.199997  224.639999  224.639999   \n",
              "\n",
              "         Volume  \n",
              "2510  117798100  \n",
              "2511   75529300  \n",
              "2512  100446800  \n",
              "2513   96507900  \n",
              "2514   85012500  "
            ],
            "text/html": [
              "\n",
              "  <div id=\"df-28579078-919e-4185-807e-b6236ebc8a02\">\n",
              "    <div class=\"colab-df-container\">\n",
              "      <div>\n",
              "<style scoped>\n",
              "    .dataframe tbody tr th:only-of-type {\n",
              "        vertical-align: middle;\n",
              "    }\n",
              "\n",
              "    .dataframe tbody tr th {\n",
              "        vertical-align: top;\n",
              "    }\n",
              "\n",
              "    .dataframe thead th {\n",
              "        text-align: right;\n",
              "    }\n",
              "</style>\n",
              "<table border=\"1\" class=\"dataframe\">\n",
              "  <thead>\n",
              "    <tr style=\"text-align: right;\">\n",
              "      <th></th>\n",
              "      <th>Date</th>\n",
              "      <th>Open</th>\n",
              "      <th>High</th>\n",
              "      <th>Low</th>\n",
              "      <th>Close</th>\n",
              "      <th>Adj Close</th>\n",
              "      <th>Volume</th>\n",
              "    </tr>\n",
              "  </thead>\n",
              "  <tbody>\n",
              "    <tr>\n",
              "      <th>2510</th>\n",
              "      <td>2022-10-20</td>\n",
              "      <td>208.279999</td>\n",
              "      <td>215.550003</td>\n",
              "      <td>202.000000</td>\n",
              "      <td>207.279999</td>\n",
              "      <td>207.279999</td>\n",
              "      <td>117798100</td>\n",
              "    </tr>\n",
              "    <tr>\n",
              "      <th>2511</th>\n",
              "      <td>2022-10-21</td>\n",
              "      <td>206.419998</td>\n",
              "      <td>214.660004</td>\n",
              "      <td>203.800003</td>\n",
              "      <td>214.440002</td>\n",
              "      <td>214.440002</td>\n",
              "      <td>75529300</td>\n",
              "    </tr>\n",
              "    <tr>\n",
              "      <th>2512</th>\n",
              "      <td>2022-10-24</td>\n",
              "      <td>205.820007</td>\n",
              "      <td>213.500000</td>\n",
              "      <td>198.589996</td>\n",
              "      <td>211.250000</td>\n",
              "      <td>211.250000</td>\n",
              "      <td>100446800</td>\n",
              "    </tr>\n",
              "    <tr>\n",
              "      <th>2513</th>\n",
              "      <td>2022-10-25</td>\n",
              "      <td>210.100006</td>\n",
              "      <td>224.350006</td>\n",
              "      <td>210.000000</td>\n",
              "      <td>222.419998</td>\n",
              "      <td>222.419998</td>\n",
              "      <td>96507900</td>\n",
              "    </tr>\n",
              "    <tr>\n",
              "      <th>2514</th>\n",
              "      <td>2022-10-26</td>\n",
              "      <td>219.399994</td>\n",
              "      <td>230.600006</td>\n",
              "      <td>218.199997</td>\n",
              "      <td>224.639999</td>\n",
              "      <td>224.639999</td>\n",
              "      <td>85012500</td>\n",
              "    </tr>\n",
              "  </tbody>\n",
              "</table>\n",
              "</div>\n",
              "      <button class=\"colab-df-convert\" onclick=\"convertToInteractive('df-28579078-919e-4185-807e-b6236ebc8a02')\"\n",
              "              title=\"Convert this dataframe to an interactive table.\"\n",
              "              style=\"display:none;\">\n",
              "        \n",
              "  <svg xmlns=\"http://www.w3.org/2000/svg\" height=\"24px\"viewBox=\"0 0 24 24\"\n",
              "       width=\"24px\">\n",
              "    <path d=\"M0 0h24v24H0V0z\" fill=\"none\"/>\n",
              "    <path d=\"M18.56 5.44l.94 2.06.94-2.06 2.06-.94-2.06-.94-.94-2.06-.94 2.06-2.06.94zm-11 1L8.5 8.5l.94-2.06 2.06-.94-2.06-.94L8.5 2.5l-.94 2.06-2.06.94zm10 10l.94 2.06.94-2.06 2.06-.94-2.06-.94-.94-2.06-.94 2.06-2.06.94z\"/><path d=\"M17.41 7.96l-1.37-1.37c-.4-.4-.92-.59-1.43-.59-.52 0-1.04.2-1.43.59L10.3 9.45l-7.72 7.72c-.78.78-.78 2.05 0 2.83L4 21.41c.39.39.9.59 1.41.59.51 0 1.02-.2 1.41-.59l7.78-7.78 2.81-2.81c.8-.78.8-2.07 0-2.86zM5.41 20L4 18.59l7.72-7.72 1.47 1.35L5.41 20z\"/>\n",
              "  </svg>\n",
              "      </button>\n",
              "      \n",
              "  <style>\n",
              "    .colab-df-container {\n",
              "      display:flex;\n",
              "      flex-wrap:wrap;\n",
              "      gap: 12px;\n",
              "    }\n",
              "\n",
              "    .colab-df-convert {\n",
              "      background-color: #E8F0FE;\n",
              "      border: none;\n",
              "      border-radius: 50%;\n",
              "      cursor: pointer;\n",
              "      display: none;\n",
              "      fill: #1967D2;\n",
              "      height: 32px;\n",
              "      padding: 0 0 0 0;\n",
              "      width: 32px;\n",
              "    }\n",
              "\n",
              "    .colab-df-convert:hover {\n",
              "      background-color: #E2EBFA;\n",
              "      box-shadow: 0px 1px 2px rgba(60, 64, 67, 0.3), 0px 1px 3px 1px rgba(60, 64, 67, 0.15);\n",
              "      fill: #174EA6;\n",
              "    }\n",
              "\n",
              "    [theme=dark] .colab-df-convert {\n",
              "      background-color: #3B4455;\n",
              "      fill: #D2E3FC;\n",
              "    }\n",
              "\n",
              "    [theme=dark] .colab-df-convert:hover {\n",
              "      background-color: #434B5C;\n",
              "      box-shadow: 0px 1px 3px 1px rgba(0, 0, 0, 0.15);\n",
              "      filter: drop-shadow(0px 1px 2px rgba(0, 0, 0, 0.3));\n",
              "      fill: #FFFFFF;\n",
              "    }\n",
              "  </style>\n",
              "\n",
              "      <script>\n",
              "        const buttonEl =\n",
              "          document.querySelector('#df-28579078-919e-4185-807e-b6236ebc8a02 button.colab-df-convert');\n",
              "        buttonEl.style.display =\n",
              "          google.colab.kernel.accessAllowed ? 'block' : 'none';\n",
              "\n",
              "        async function convertToInteractive(key) {\n",
              "          const element = document.querySelector('#df-28579078-919e-4185-807e-b6236ebc8a02');\n",
              "          const dataTable =\n",
              "            await google.colab.kernel.invokeFunction('convertToInteractive',\n",
              "                                                     [key], {});\n",
              "          if (!dataTable) return;\n",
              "\n",
              "          const docLinkHtml = 'Like what you see? Visit the ' +\n",
              "            '<a target=\"_blank\" href=https://colab.research.google.com/notebooks/data_table.ipynb>data table notebook</a>'\n",
              "            + ' to learn more about interactive tables.';\n",
              "          element.innerHTML = '';\n",
              "          dataTable['output_type'] = 'display_data';\n",
              "          await google.colab.output.renderOutput(dataTable, element);\n",
              "          const docLink = document.createElement('div');\n",
              "          docLink.innerHTML = docLinkHtml;\n",
              "          element.appendChild(docLink);\n",
              "        }\n",
              "      </script>\n",
              "    </div>\n",
              "  </div>\n",
              "  "
            ]
          },
          "metadata": {},
          "execution_count": 64
        }
      ],
      "source": [
        "df.tail()"
      ]
    },
    {
      "cell_type": "code",
      "execution_count": null,
      "metadata": {
        "id": "qkpncX54kwHc"
      },
      "outputs": [],
      "source": [
        "df1=df.reset_index()['High']"
      ]
    },
    {
      "cell_type": "code",
      "execution_count": null,
      "metadata": {
        "colab": {
          "base_uri": "https://localhost:8080/"
        },
        "id": "rvyyaUb1kwHe",
        "outputId": "92a0b7a2-e13e-4cdc-b654-2dc5c63ba673"
      },
      "outputs": [
        {
          "output_type": "execute_result",
          "data": {
            "text/plain": [
              "0         1.890000\n",
              "1         1.966000\n",
              "2         1.970000\n",
              "3         2.105333\n",
              "4         2.080000\n",
              "           ...    \n",
              "2510    215.550003\n",
              "2511    214.660004\n",
              "2512    213.500000\n",
              "2513    224.350006\n",
              "2514    230.600006\n",
              "Name: High, Length: 2515, dtype: float64"
            ]
          },
          "metadata": {},
          "execution_count": 66
        }
      ],
      "source": [
        "df1"
      ]
    },
    {
      "cell_type": "code",
      "execution_count": null,
      "metadata": {
        "colab": {
          "base_uri": "https://localhost:8080/",
          "height": 282
        },
        "id": "ua9kqrwFkwHg",
        "outputId": "2e90a918-b2f4-435f-a68b-8448882a5623"
      },
      "outputs": [
        {
          "output_type": "execute_result",
          "data": {
            "text/plain": [
              "[<matplotlib.lines.Line2D at 0x7f9131732c50>]"
            ]
          },
          "metadata": {},
          "execution_count": 67
        },
        {
          "output_type": "display_data",
          "data": {
            "text/plain": [
              "<Figure size 432x288 with 1 Axes>"
            ],
            "image/png": "[encoded data removed]"
          },
          "metadata": {
            "needs_background": "light"
          }
        }
      ],
      "source": [
        "#%pip install matplotlib\n",
        "import matplotlib.pyplot as plt\n",
        "plt.plot(df1)"
      ]
    },
    {
      "cell_type": "code",
      "execution_count": null,
      "metadata": {
        "id": "n14ScK_wkwHh"
      },
      "outputs": [],
      "source": [
        "### LSTM are sensitive to the scale of the data. so we apply MinMax scaler "
      ]
    },
    {
      "cell_type": "code",
      "execution_count": null,
      "metadata": {
        "id": "KZnvOVeIkwHj"
      },
      "outputs": [],
      "source": [
        "import numpy as np"
      ]
    },
    {
      "cell_type": "code",
      "execution_count": null,
      "metadata": {
        "colab": {
          "base_uri": "https://localhost:8080/"
        },
        "id": "k3Os-BIFkwHl",
        "outputId": "be118dbd-19ea-41ef-fb34-0f134aa4faff"
      },
      "outputs": [
        {
          "output_type": "execute_result",
          "data": {
            "text/plain": [
              "0         1.890000\n",
              "1         1.966000\n",
              "2         1.970000\n",
              "3         2.105333\n",
              "4         2.080000\n",
              "           ...    \n",
              "2510    215.550003\n",
              "2511    214.660004\n",
              "2512    213.500000\n",
              "2513    224.350006\n",
              "2514    230.600006\n",
              "Name: High, Length: 2515, dtype: float64"
            ]
          },
          "metadata": {},
          "execution_count": 70
        }
      ],
      "source": [
        "df1"
      ]
    },
    {
      "cell_type": "code",
      "execution_count": null,
      "metadata": {
        "id": "fd6ED_XukwHm"
      },
      "outputs": [],
      "source": [
        "from sklearn.preprocessing import MinMaxScaler\n",
        "scaler=MinMaxScaler(feature_range=(0,1))\n",
        "df1=scaler.fit_transform(np.array(df1).reshape(-1,1))"
      ]
    },
    {
      "cell_type": "code",
      "execution_count": null,
      "metadata": {
        "colab": {
          "base_uri": "https://localhost:8080/"
        },
        "id": "P3YF6TG8kwHn",
        "outputId": "e85afa8a-fac4-4594-aa41-1fe5a4d0e24a"
      },
      "outputs": [
        {
          "output_type": "execute_result",
          "data": {
            "text/plain": [
              "array([[0.00000000e+00],\n",
              "       [1.84194791e-04],\n",
              "       [1.93889253e-04],\n",
              "       ...,\n",
              "       [5.12861312e-01],\n",
              "       [5.39157556e-01],\n",
              "       [5.54305154e-01]])"
            ]
          },
          "metadata": {},
          "execution_count": 72
        }
      ],
      "source": [
        "df1"
      ]
    },
    {
      "cell_type": "code",
      "execution_count": null,
      "metadata": {
        "id": "UtmXiFdpkwHo"
      },
      "outputs": [],
      "source": [
        "##splitting dataset into train and test split\n",
        "training_size=int(len(df1)*0.65)\n",
        "test_size=len(df1)-training_size\n",
        "train_data,test_data=df1[0:training_size,:],df1[training_size:len(df1),:1]"
      ]
    },
    {
      "cell_type": "code",
      "execution_count": null,
      "metadata": {
        "colab": {
          "base_uri": "https://localhost:8080/"
        },
        "id": "HbdarvMKkwHp",
        "outputId": "8fb7ca59-3d85-47a1-eab5-63a8668e12cc"
      },
      "outputs": [
        {
          "output_type": "execute_result",
          "data": {
            "text/plain": [
              "(1634, 881)"
            ]
          },
          "metadata": {},
          "execution_count": 74
        }
      ],
      "source": [
        "training_size,test_size"
      ]
    },
    {
      "cell_type": "code",
      "execution_count": null,
      "metadata": {
        "colab": {
          "base_uri": "https://localhost:8080/"
        },
        "id": "bIQdRwtwkwHq",
        "outputId": "5af8bee0-44d2-482f-a311-2e55e5359445"
      },
      "outputs": [
        {
          "output_type": "execute_result",
          "data": {
            "text/plain": [
              "array([[0.        ],\n",
              "       [0.00018419],\n",
              "       [0.00019389],\n",
              "       ...,\n",
              "       [0.03527653],\n",
              "       [0.03484028],\n",
              "       [0.03487744]])"
            ]
          },
          "metadata": {},
          "execution_count": 75
        }
      ],
      "source": [
        "train_data"
      ]
    },
    {
      "cell_type": "code",
      "execution_count": null,
      "metadata": {
        "id": "nadIIOOMkwHr"
      },
      "outputs": [],
      "source": [
        "import numpy\n",
        "# convert an array of values into a dataset matrix\n",
        "def create_dataset(dataset, n_step=1):\n",
        "\tdataX, dataY = [], []\n",
        "\tfor i in range(len(dataset)-n_step-1):\n",
        "\t\ta = dataset[i:(i+n_step), 0]   ###i=0, X=0,1,2,3-----99   Y=100 \n",
        "\t\tdataX.append(a)\n",
        "\t\tdataY.append(dataset[i + n_step, 0])\n",
        "\treturn numpy.array(dataX), numpy.array(dataY)"
      ]
    },
    {
      "cell_type": "code",
      "execution_count": null,
      "metadata": {
        "id": "M5H3Lm1ckwHs"
      },
      "outputs": [],
      "source": [
        "# reshape into X=t,t+1,t+2..t+99 and Y=t+100\n",
        "\n",
        "n_step = 100\n",
        "X_train, y_train = create_dataset(train_data, n_step)\n",
        "X_test, ytest = create_dataset(test_data, n_step)"
      ]
    },
    {
      "cell_type": "code",
      "execution_count": null,
      "metadata": {
        "colab": {
          "base_uri": "https://localhost:8080/"
        },
        "id": "Pj7m3fIOkwHt",
        "outputId": "26d0e38d-27d7-44d0-9eb4-5122f31d4add"
      },
      "outputs": [
        {
          "output_type": "stream",
          "name": "stdout",
          "text": [
            "(1533, 100)\n",
            "(1533,)\n"
          ]
        },
        {
          "output_type": "execute_result",
          "data": {
            "text/plain": [
              "(None, None)"
            ]
          },
          "metadata": {},
          "execution_count": 78
        }
      ],
      "source": [
        "print(X_train.shape), print(y_train.shape)"
      ]
    },
    {
      "cell_type": "code",
      "execution_count": null,
      "metadata": {
        "colab": {
          "base_uri": "https://localhost:8080/"
        },
        "id": "fRLxknw2kwHv",
        "outputId": "2e291b09-9bf0-443e-d1ee-b0214bc92ed4"
      },
      "outputs": [
        {
          "output_type": "stream",
          "name": "stdout",
          "text": [
            "(780, 100)\n",
            "(780,)\n"
          ]
        },
        {
          "output_type": "execute_result",
          "data": {
            "text/plain": [
              "(None, None)"
            ]
          },
          "metadata": {},
          "execution_count": 79
        }
      ],
      "source": [
        "print(X_test.shape), print(ytest.shape)"
      ]
    },
    {
      "cell_type": "code",
      "execution_count": null,
      "metadata": {
        "id": "5AXuhAUDkwHw"
      },
      "outputs": [],
      "source": [
        "# reshape input to be [samples, time steps, features] which is required for LSTM\n",
        "X_train =X_train.reshape(X_train.shape[0],X_train.shape[1] , 1)\n",
        "X_test = X_test.reshape(X_test.shape[0],X_test.shape[1] , 1)"
      ]
    },
    {
      "cell_type": "code",
      "execution_count": null,
      "metadata": {
        "id": "uvzUzl91kwHx"
      },
      "outputs": [],
      "source": [
        "### Create the LSTM model\n",
        "import tensorflow as tf\n",
        "tf.__version__\n",
        "from tensorflow.keras.models import Sequential\n",
        "from tensorflow.keras.layers import Dense\n",
        "from tensorflow.keras.layers import LSTM"
      ]
    },
    {
      "cell_type": "code",
      "execution_count": null,
      "metadata": {
        "id": "exdxQLgpkwHy"
      },
      "outputs": [],
      "source": [
        "model=Sequential()\n",
        "model.add(LSTM(50,return_sequences=True,input_shape=(100,1)))\n",
        "model.add(LSTM(50,return_sequences=True))\n",
        "model.add(LSTM(50))\n",
        "model.add(Dense(1))\n",
        "model.compile(loss='mean_squared_error',optimizer='adam')\n"
      ]
    },
    {
      "cell_type": "code",
      "execution_count": null,
      "metadata": {
        "colab": {
          "base_uri": "https://localhost:8080/"
        },
        "id": "ghGeIxBEkwH0",
        "outputId": "febb3b2e-0ad1-4be0-fa1c-21e441187fa4"
      },
      "outputs": [
        {
          "output_type": "stream",
          "name": "stdout",
          "text": [
            "Model: \"sequential_1\"\n",
            "_________________________________________________________________\n",
            " Layer (type)                Output Shape              Param #   \n",
            "=================================================================\n",
            " lstm_3 (LSTM)               (None, 100, 50)           10400     \n",
            "                                                                 \n",
            " lstm_4 (LSTM)               (None, 100, 50)           20200     \n",
            "                                                                 \n",
            " lstm_5 (LSTM)               (None, 50)                20200     \n",
            "                                                                 \n",
            " dense_1 (Dense)             (None, 1)                 51        \n",
            "                                                                 \n",
            "=================================================================\n",
            "Total params: 50,851\n",
            "Trainable params: 50,851\n",
            "Non-trainable params: 0\n",
            "_________________________________________________________________\n"
          ]
        }
      ],
      "source": [
        "model.summary()"
      ]
    },
    {
      "cell_type": "code",
      "execution_count": null,
      "metadata": {
        "colab": {
          "base_uri": "https://localhost:8080/"
        },
        "id": "jH7Ysf-FkwH1",
        "outputId": "eb604e08-6925-4606-a54f-b7008cf4b6c4"
      },
      "outputs": [
        {
          "output_type": "stream",
          "name": "stdout",
          "text": [
            "Epoch 1/20\n",
            "24/24 [==============================] - 22s 591ms/step - loss: 2.0021e-04 - val_loss: 0.1422\n",
            "Epoch 2/20\n",
            "24/24 [==============================] - 10s 408ms/step - loss: 3.8891e-05 - val_loss: 0.0132\n",
            "Epoch 3/20\n",
            "24/24 [==============================] - 6s 240ms/step - loss: 1.2407e-05 - val_loss: 0.0243\n",
            "Epoch 4/20\n",
            "24/24 [==============================] - 6s 233ms/step - loss: 1.0373e-05 - val_loss: 0.0191\n",
            "Epoch 5/20\n",
            "24/24 [==============================] - 5s 211ms/step - loss: 1.0616e-05 - val_loss: 0.0160\n",
            "Epoch 6/20\n",
            "24/24 [==============================] - 5s 217ms/step - loss: 1.1275e-05 - val_loss: 0.0171\n",
            "Epoch 7/20\n",
            "24/24 [==============================] - 5s 218ms/step - loss: 1.1235e-05 - val_loss: 0.0154\n",
            "Epoch 8/20\n",
            "24/24 [==============================] - 5s 212ms/step - loss: 9.6726e-06 - val_loss: 0.0129\n",
            "Epoch 9/20\n",
            "24/24 [==============================] - 6s 233ms/step - loss: 1.0503e-05 - val_loss: 0.0132\n",
            "Epoch 10/20\n",
            "24/24 [==============================] - 6s 256ms/step - loss: 1.2761e-05 - val_loss: 0.0145\n",
            "Epoch 11/20\n",
            "24/24 [==============================] - 6s 234ms/step - loss: 9.3499e-06 - val_loss: 0.0128\n",
            "Epoch 12/20\n",
            "24/24 [==============================] - 5s 219ms/step - loss: 9.2375e-06 - val_loss: 0.0120\n",
            "Epoch 13/20\n",
            "24/24 [==============================] - 5s 216ms/step - loss: 8.1728e-06 - val_loss: 0.0125\n",
            "Epoch 14/20\n",
            "24/24 [==============================] - 6s 232ms/step - loss: 1.0053e-05 - val_loss: 0.0101\n",
            "Epoch 15/20\n",
            "24/24 [==============================] - 5s 209ms/step - loss: 8.2015e-06 - val_loss: 0.0119\n",
            "Epoch 16/20\n",
            "24/24 [==============================] - 5s 212ms/step - loss: 8.5798e-06 - val_loss: 0.0111\n",
            "Epoch 17/20\n",
            "24/24 [==============================] - 6s 232ms/step - loss: 7.9068e-06 - val_loss: 0.0103\n",
            "Epoch 18/20\n",
            "24/24 [==============================] - 6s 262ms/step - loss: 8.7507e-06 - val_loss: 0.0083\n",
            "Epoch 19/20\n",
            "24/24 [==============================] - 9s 384ms/step - loss: 7.8279e-06 - val_loss: 0.0086\n",
            "Epoch 20/20\n",
            "24/24 [==============================] - 10s 419ms/step - loss: 7.9531e-06 - val_loss: 0.0104\n"
          ]
        }
      ],
      "source": [
        "history=model.fit(X_train,y_train,validation_data=(X_test,ytest),epochs=20,batch_size=64,verbose=1)"
      ]
    },
    {
      "cell_type": "code",
      "source": [
        "plt.plot(history.history['loss'])\n",
        "plt.plot(history.history['val_loss'])\n",
        "plt.title('model loss')\n",
        "plt.ylabel('loss')\n",
        "plt.xlabel('epoch')\n",
        "plt.legend(['train', 'val'], loc='upper left')\n",
        "plt.show()"
      ],
      "metadata": {
        "colab": {
          "base_uri": "https://localhost:8080/",
          "height": 295
        },
        "id": "aVnKsC0H8CYO",
        "outputId": "f5506341-4186-4afe-d44e-7e095c8659b4"
      },
      "execution_count": null,
      "outputs": [
        {
          "output_type": "display_data",
          "data": {
            "text/plain": [
              "<Figure size 432x288 with 1 Axes>"
            ],
            "image/png": "[encoded data removed]"
          },
          "metadata": {
            "needs_background": "light"
          }
        }
      ]
    },
    {
      "cell_type": "code",
      "source": [
        "def lstm_model(X_train, y_train, history_points):\n",
        "    tf.random.set_seed(20)\n",
        "    np.random.seed(10)\n",
        "    lstm_input = Input(shape=(history_points, 6), name='lstm_input')\n",
        "\n",
        "    inputs = LSTM(21, name='first_layer')(lstm_input)\n",
        "    inputs = Dense(1, name='dense_layer')(inputs)\n",
        "    output = Activation('linear', name='output')(inputs)\n",
        "\n",
        "    model = Model(inputs=lstm_input, outputs=output)\n",
        "    adam = optimizers.Adam(lr = 0.0008)\n",
        "    model.compile(optimizer=adam, loss='mse')\n",
        "    model.fit(x=X_train, y=y_train, batch_size=15, epochs=170, shuffle=True, validation_split = 0.1)\n",
        "\n",
        "    return model"
      ],
      "metadata": {
        "id": "jWlij1f7FIwc"
      },
      "execution_count": null,
      "outputs": []
    },
    {
      "cell_type": "code",
      "execution_count": null,
      "metadata": {
        "id": "p0o7GxG9kwH2",
        "outputId": "b5d03131-8336-44fd-db88-852eba004cce",
        "colab": {
          "base_uri": "https://localhost:8080/"
        }
      },
      "outputs": [
        {
          "output_type": "stream",
          "name": "stdout",
          "text": [
            "48/48 [==============================] - 4s 43ms/step\n",
            "25/25 [==============================] - 1s 43ms/step\n"
          ]
        }
      ],
      "source": [
        "###prediction and check performance metrics\n",
        "train_predict=model.predict(X_train)\n",
        "test_predict=model.predict(X_test)"
      ]
    },
    {
      "cell_type": "code",
      "execution_count": null,
      "metadata": {
        "id": "YUFhCmS7kwH3"
      },
      "outputs": [],
      "source": [
        "##Transformback to original form\n",
        "train_predict=scaler.inverse_transform(train_predict)\n",
        "test_predict=scaler.inverse_transform(test_predict)"
      ]
    },
    {
      "cell_type": "code",
      "execution_count": null,
      "metadata": {
        "id": "pFyWVITXkwH4",
        "outputId": "30a4acbb-c685-4742-e3b2-c41629b30ea4",
        "colab": {
          "base_uri": "https://localhost:8080/"
        }
      },
      "outputs": [
        {
          "output_type": "execute_result",
          "data": {
            "text/plain": [
              "17.2228886624028"
            ]
          },
          "metadata": {},
          "execution_count": 89
        }
      ],
      "source": [
        "### Calculate RMSE performance metrics\n",
        "import math\n",
        "from sklearn.metrics import mean_squared_error\n",
        "math.sqrt(mean_squared_error(y_train,train_predict))"
      ]
    },
    {
      "cell_type": "code",
      "execution_count": null,
      "metadata": {
        "id": "ShQ5X6wrkwH4",
        "outputId": "72cd0a07-7508-4757-a675-6b6df97398cc",
        "colab": {
          "base_uri": "https://localhost:8080/"
        }
      },
      "outputs": [
        {
          "output_type": "execute_result",
          "data": {
            "text/plain": [
              "186.6724507980528"
            ]
          },
          "metadata": {},
          "execution_count": 90
        }
      ],
      "source": [
        "### Test Data RMSE\n",
        "math.sqrt(mean_squared_error(ytest,test_predict))"
      ]
    },
    {
      "cell_type": "code",
      "source": [
        "#Model Evaluation\n",
        "predictions = model.predict(X_test)\n",
        "predictions = scaler.inverse_transform(predictions)\n",
        "rmse = np.sqrt(np.mean(predictions - ytest)**2)\n",
        "rmse"
      ],
      "metadata": {
        "colab": {
          "base_uri": "https://localhost:8080/"
        },
        "id": "jACJ8IMqA1NB",
        "outputId": "39d0961a-ddd7-4b5a-a3e7-2b435e27dac8"
      },
      "execution_count": null,
      "outputs": [
        {
          "output_type": "stream",
          "name": "stdout",
          "text": [
            "25/25 [==============================] - 1s 37ms/step\n"
          ]
        },
        {
          "output_type": "execute_result",
          "data": {
            "text/plain": [
              "164.3879110268887"
            ]
          },
          "metadata": {},
          "execution_count": 91
        }
      ]
    },
    {
      "cell_type": "code",
      "execution_count": null,
      "metadata": {
        "id": "tVnwVA6ckwH5",
        "outputId": "12db74ff-6572-433e-890c-13fe83b983c4",
        "colab": {
          "base_uri": "https://localhost:8080/",
          "height": 295
        }
      },
      "outputs": [
        {
          "output_type": "display_data",
          "data": {
            "text/plain": [
              "<Figure size 432x288 with 1 Axes>"
            ],
            "image/png": "[encoded data removed]"
          },
          "metadata": {
            "needs_background": "light"
          }
        }
      ],
      "source": [
        "### Plotting \n",
        "# shift train predictions for plotting\n",
        "look_back=100\n",
        "trainPredictPlot = numpy.empty_like(df1)\n",
        "trainPredictPlot[:, :] = np.nan\n",
        "trainPredictPlot[look_back:len(train_predict)+look_back, :] = train_predict\n",
        "# shift test predictions for plotting\n",
        "testPredictPlot = numpy.empty_like(df1)\n",
        "testPredictPlot[:, :] = numpy.nan\n",
        "testPredictPlot[len(train_predict)+(look_back*2)+1:len(df1)-1, :] = test_predict\n",
        "# plot baseline and predictions\n",
        "plt.plot(scaler.inverse_transform(df1))\n",
        "plt.plot(trainPredictPlot)\n",
        "plt.plot(testPredictPlot)\n",
        "plt.title('Model')\n",
        "plt.xlabel('Days')\n",
        "plt.ylabel('Close Price USD ($)')\n",
        "plt.legend(['Train', 'Val', 'Predictions'], loc='lower right')\n",
        "plt.show()"
      ]
    },
    {
      "cell_type": "code",
      "source": [
        "import sklearn\n",
        "import numpy as np\n",
        "original_price = df['Close'].values\n",
        "x_input=original_price[len(original_price)-30:].reshape(1,-1)\n",
        "temp_input=list(x_input)\n",
        "temp_input=temp_input[0].tolist()\n",
        "lst_output=[]\n",
        "n_steps=30\n",
        "i=0\n",
        "while(i<30):\n",
        "\n",
        "  if(len(temp_input)>30):\n",
        "    #print(temp_input)\n",
        "     x_input=np.array(temp_input[1:])\n",
        "     x_input=x_input.reshape(1,-1)\n",
        "     x_input=x_input.reshape((1,n_steps,1))\n",
        "     yhat=model.predict(x_input,verbose=0)\n",
        "     temp_input.extend(yhat[0].tolist())\n",
        "     temp_input=temp_input[1:]\n",
        "     lst_output.extend(yhat[0].tolist())\n",
        "     i=i+1\n",
        "  else:\n",
        "     x_input=x_input.reshape(1,n_steps,1)\n",
        "     yhat=model.predict(x_input,verbose=0)\n",
        "     #print(yhat[0])\n",
        "     temp_input.extend(yhat[0].tolist())\n",
        "     #print(len(temp_input))\n",
        "     lst_output.extend(yhat.tolist())\n",
        "     i=i+1\n",
        "     df1=test_data.tolist()\n",
        "     df1.extend(lst_output)\n",
        "     df1=scaler.inverse_transform(df1).tolist()\n",
        "     plt.title('Prediction for next n days')\n",
        "     plt.ylabel('Close Stock Price')\n",
        "     plt.xlabel('Days')\n",
        "     plt.plot(df1)\n",
        "     fig3=plt.show()"
      ],
      "metadata": {
        "colab": {
          "base_uri": "https://localhost:8080/",
          "height": 295
        },
        "id": "X8FSXNiLWs2y",
        "outputId": "aa0e006e-c9c0-4c58-ce26-e3a5b91fd228"
      },
      "execution_count": null,
      "outputs": [
        {
          "output_type": "display_data",
          "data": {
            "text/plain": [
              "<Figure size 432x288 with 1 Axes>"
            ],
            "image/png": "[encoded data removed]"
          },
          "metadata": {
            "needs_background": "light"
          }
        }
      ]
    }
  ],
  "metadata": {
    "kernelspec": {
      "display_name": "Python 3.10.x 64-bit (microsoft store)",
      "language": "python",
      "name": "python3"
    },
    "language_info": {
      "codemirror_mode": {
        "name": "ipython",
        "version": 3
      },
      "file_extension": ".py",
      "mimetype": "text/x-python",
      "name": "python",
      "nbconvert_exporter": "python",
      "pygments_lexer": "ipython3",
      "version": "3.10.8"
    },
    "vscode": {
      "interpreter": {
        "hash": "e105dadc376c8875b8775ef15f9cf86621ff4fe8632ecc57e8bbbce9de13853f"
      }
    },
    "colab": {
      "provenance": []
    }
  },
  "nbformat": 4,
  "nbformat_minor": 0
}